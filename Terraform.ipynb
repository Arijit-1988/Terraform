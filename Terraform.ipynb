{
  "nbformat": 4,
  "nbformat_minor": 0,
  "metadata": {
    "colab": {
      "name": "Terraform.ipynb",
      "provenance": [],
      "authorship_tag": "ABX9TyNXXKNnIc+P3f5kExl7wrgw"
    },
    "kernelspec": {
      "name": "python3",
      "display_name": "Python 3"
    }
  },
  "cells": [
    {
      "cell_type": "code",
      "metadata": {
        "id": "yFICaFF1kvub"
      },
      "source": [
        "provider \"aws\" {\r\n",
        "  region     = \"us-west-2\"\r\n",
        "  # access_key = \"my-access-key\"\r\n",
        "  # secret_key = \"my-secret-key\"\r\n",
        "  # shared_credentials_file = \"/Users/tf_user/.aws/creds\"\r\n",
        "  profile                 = \"customprofile\"\r\n",
        "}"
      ],
      "execution_count": null,
      "outputs": []
    },
    {
      "cell_type": "markdown",
      "metadata": {
        "id": "7gHUD7L-K6PO"
      },
      "source": [
        "# This is Variable String\r\n"
      ]
    },
    {
      "cell_type": "code",
      "metadata": {
        "id": "l9xBOuAtJ_bV"
      },
      "source": [
        "variable 'firststring'{\r\n",
        "    type = \"string\"\r\n",
        "    default = \"This is fist line in string type\"\r\n",
        "}\r\n",
        "\r\n",
        "output \"firstoutput\"{\r\n",
        "    value = \"${var.firststring}\"\r\n",
        "}"
      ],
      "execution_count": null,
      "outputs": []
    },
    {
      "cell_type": "markdown",
      "metadata": {
        "id": "3kO57c_CLLgL"
      },
      "source": [
        "# This is Multi-line String"
      ]
    },
    {
      "cell_type": "code",
      "metadata": {
        "id": "WzOe3LBmK1sx"
      },
      "source": [
        "varibale \"multilinestring\"{\r\n",
        "    type = \"string\"\r\n",
        "    default = <<<EOH\r\n",
        "    This is multi-line\r\n",
        "    string, we can\r\n",
        "    add as many line as\r\n",
        "    we can\r\n",
        "    EOH\r\n",
        "}\r\n",
        "\r\n",
        "output \"multilineoutput\"{\r\n",
        "    value = \"${var.multilinestring}\"\r\n",
        "}"
      ],
      "execution_count": null,
      "outputs": []
    },
    {
      "cell_type": "markdown",
      "metadata": {
        "id": "rxzt2_A7MFg4"
      },
      "source": [
        "# Maps"
      ]
    },
    {
      "cell_type": "code",
      "metadata": {
        "id": "G3-jubMSMEHf"
      },
      "source": [
        "varibale \"mapexample\"{\r\n",
        "    type =\"map\"\r\n",
        "    default = {\r\n",
        "        'useast' = \"ami1\"\r\n",
        "        'uswest' = \"ami2\"\r\n",
        "    }\r\n",
        "}\r\n",
        "\r\n",
        "output \"mapoutput\"{\r\n",
        "    value = \"${var.mapexample[\"useast\"]}\"\r\n",
        "}"
      ],
      "execution_count": null,
      "outputs": []
    },
    {
      "cell_type": "markdown",
      "metadata": {
        "id": "x7UIM40-Nppa"
      },
      "source": [
        "#Lists - Array"
      ]
    },
    {
      "cell_type": "code",
      "metadata": {
        "id": "pHYD4KHUNvzS"
      },
      "source": [
        "variable \"SGlist\"{\r\n",
        "    type = \"list\"\r\n",
        "    default =['SG1', 'SG2', 'SG3']\r\n",
        "}\r\n",
        "\r\n",
        "output \"SGlistoutput\"{\r\n",
        "    value = \"${var.SGlist[0]}\"\r\n",
        "}"
      ],
      "execution_count": null,
      "outputs": []
    },
    {
      "cell_type": "markdown",
      "metadata": {
        "id": "5jm-K4oMWeey"
      },
      "source": [
        "#Boolean"
      ]
    },
    {
      "cell_type": "code",
      "metadata": {
        "id": "G-4IXUenWhNv"
      },
      "source": [
        "variable \"booltest\"{\r\n",
        "    type = true   # \"true\"\r\n",
        "}\r\n",
        "\r\n",
        "output \"booloutput\"{\r\n",
        "    value = \"${var.booltest}\"\r\n",
        "}"
      ],
      "execution_count": null,
      "outputs": []
    },
    {
      "cell_type": "markdown",
      "metadata": {
        "id": "L3kYDlKRXZtP"
      },
      "source": [
        "#Input and Output"
      ]
    },
    {
      "cell_type": "code",
      "metadata": {
        "id": "7S884qX5Xb6Z"
      },
      "source": [
        "variable \"inputvar\"{\r\n",
        "    type = \"string\"\r\n",
        "}\r\n",
        " output \"outputvar\"{\r\n",
        "     sensitive = true   # if you don't want to show the output\r\n",
        "     value = \"${var.inputvar}\"\r\n",
        " }"
      ],
      "execution_count": null,
      "outputs": []
    }
  ]
}