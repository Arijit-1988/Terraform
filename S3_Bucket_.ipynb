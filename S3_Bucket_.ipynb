{
  "nbformat": 4,
  "nbformat_minor": 0,
  "metadata": {
    "colab": {
      "name": "S3_Bucket .ipynb",
      "provenance": [],
      "collapsed_sections": [],
      "authorship_tag": "ABX9TyOr3QFZVizSUdbvonWyiLs8"
    },
    "kernelspec": {
      "name": "python3",
      "display_name": "Python 3"
    }
  },
  "cells": [
    {
      "cell_type": "markdown",
      "metadata": {
        "id": "UOeoJ5Ckgryi"
      },
      "source": [
        "# Create S3 Bucket & Upload a file\r\n",
        "Create a folder as S3 and write the code in file main.tf"
      ]
    },
    {
      "cell_type": "code",
      "metadata": {
        "id": "aB-HfiJRbQEE"
      },
      "source": [
        "provider \"aws\" {\r\n",
        "  region     = \"us-east-2\"\r\n",
        "  # access_key = \"my-access-key\"\r\n",
        "  # secret_key = \"my-secret-key\"\r\n",
        "  # shared_credentials_file = \"/Users/tf_user/.aws/creds\"\r\n",
        "  profile                 = \"customprofile\"\r\n",
        "}"
      ],
      "execution_count": null,
      "outputs": []
    },
    {
      "cell_type": "markdown",
      "metadata": {
        "id": "O52cW2Sebd4N"
      },
      "source": [
        "#Creating S3 Bucket & Uploading a Object in it."
      ]
    },
    {
      "cell_type": "code",
      "metadata": {
        "id": "T8Fu1_kLb0c4"
      },
      "source": [
        "# resource '<aws_resource>' '<resource_name>{ ... }\r\n",
        "\r\n",
        "resource \"aws_s3_bucket\" \"first_s3_bucket\"{\r\n",
        "    bucket = \"s3bucket-01212021\"\r\n",
        "    acl = \"private\"\r\n",
        "    region = \"us-east-1\"    #Though we already mentioned the region in provider\r\n",
        "\r\n",
        "    tags = {\r\n",
        "        Environment = \"Dev\"\r\n",
        "        }\r\n",
        "\r\n",
        "}\r\n",
        "\r\n",
        "\r\n",
        "resource \"aws_s3_bucket_object\" \"s3_first_object\" {\r\n",
        "  bucket = \"${aws_s3_bucket.first_s3_bucket.id}\"    # your bucket name \"${<aws_service>.<bucket_name>.id}\"\r\n",
        "  key    = \"test_file.txt\"\r\n",
        "  source = \"path/to/file\"        # source of the text file in the computer\r\n",
        "\r\n",
        "\r\n",
        "  # The filemd5() function is available in Terraform 0.11.12 and later\r\n",
        "  # For Terraform 0.11.11 and earlier, use the md5() function and the file() function:\r\n",
        "  # etag = \"${md5(file(\"path/to/file\"))}\"\r\n",
        "  \r\n",
        "  etag = \"${md5(file(\"path/to/file\"))}\"        # Same as in source in <path/to/file>\r\n",
        "}\r\n",
        "\r\n"
      ],
      "execution_count": null,
      "outputs": []
    }
  ]
}