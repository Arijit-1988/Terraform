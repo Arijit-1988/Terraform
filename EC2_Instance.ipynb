{
  "nbformat": 4,
  "nbformat_minor": 0,
  "metadata": {
    "colab": {
      "name": "EC2_Instance.ipynb",
      "provenance": [],
      "authorship_tag": "ABX9TyO9dhFUFpNQGisHabosuyZt"
    },
    "kernelspec": {
      "name": "python3",
      "display_name": "Python 3"
    }
  },
  "cells": [
    {
      "cell_type": "markdown",
      "metadata": {
        "id": "dLpuAcRsgS7E"
      },
      "source": [
        "# Launch EC2 Instance - KeyPair & Security Group\r\n",
        "\r\n",
        "Create this in different folder and save the code in main.tf"
      ]
    },
    {
      "cell_type": "code",
      "metadata": {
        "id": "2MiPybWKgaF2"
      },
      "source": [
        "# AWS Key Pair : Currently this resource requires an existing user-supplied key pair.\r\n",
        "# Use PuTTY Key Generator, to generate Key \r\n",
        "\r\n",
        "provider \"aws\" {\r\n",
        "  region     = \"us-east-2\"\r\n",
        "  # access_key = \"my-access-key\"\r\n",
        "  # secret_key = \"my-secret-key\"\r\n",
        "  # shared_credentials_file = \"/Users/tf_user/.aws/creds\"\r\n",
        "  profile                 = \"customprofile\"\r\n",
        "}\r\n",
        "\r\n",
        "resource \"aws_key_pair\" \"deployer\" {\r\n",
        "  key_name   = \"deployer-key\"       # Name the Key\r\n",
        "  public_key = \"ssh-rsa AAAAB3NzaC1yc2EAAAABJQAAAQEAuHZiCwM180Qa68JJ8D3uuDllSO9heNwv/guoqf00twJ2fXD25qFGiI4INIIn7cg2yif0jgbxMxPKlKfFrzl1jH0ldRxM47jWU/LykyH+pbOl4n+bvsk36RTswQ7RATDbzlbXvRzTig9AvMI9NfJcSRBbaZJ3b4jxXuh9bib+Vm2Ib7yypeyC6XPtQtUmOCVIsW2/ULANBRPwTkYr1QrsevOJICXwCqhm2eTRcmj9pvCKfHJWqol/dVWkhVroKDrHj6AkT7f5RQ8xexOSEdVdoEH0yB7pOpKI4RR+koIxkUe7AfD1AAvzuGFmIs8YB6S4/CnT1ndfJDFkNM3/C+jR6Q== rsa-key-20210122\"\r\n",
        "}\r\n"
      ],
      "execution_count": null,
      "outputs": []
    }
  ]
}