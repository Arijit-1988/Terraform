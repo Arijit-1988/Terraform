{
  "nbformat": 4,
  "nbformat_minor": 0,
  "metadata": {
    "colab": {
      "name": "EC2_Instance.ipynb",
      "provenance": [],
      "authorship_tag": "ABX9TyPRdcY36Fg+MG9+bSe1nopq"
    },
    "kernelspec": {
      "name": "python3",
      "display_name": "Python 3"
    }
  },
  "cells": [
    {
      "cell_type": "markdown",
      "metadata": {
        "id": "dLpuAcRsgS7E"
      },
      "source": [
        "# Launch EC2 Instance - KeyPair & Security Group\r\n",
        "\r\n",
        "Create this in different folder and save the code in main.tf"
      ]
    },
    {
      "cell_type": "code",
      "metadata": {
        "id": "2MiPybWKgaF2"
      },
      "source": [
        "# AWS Key Pair : Currently this resource requires an existing user-supplied key pair.\r\n",
        "# Use PuTTY Key Generator, to generate Key \r\n",
        "\r\n",
        "provider \"aws\" {\r\n",
        "  region     = \"us-east-2\"\r\n",
        "  # access_key = \"my-access-key\"\r\n",
        "  # secret_key = \"my-secret-key\"\r\n",
        "  # shared_credentials_file = \"/Users/tf_user/.aws/creds\"\r\n",
        "  profile                 = \"customprofile\"\r\n",
        "}\r\n"
      ],
      "execution_count": null,
      "outputs": []
    },
    {
      "cell_type": "markdown",
      "metadata": {
        "id": "39GenvzQpLer"
      },
      "source": [
        "#Key Pair"
      ]
    },
    {
      "cell_type": "code",
      "metadata": {
        "id": "MPn7p_Q3pSnZ"
      },
      "source": [
        "resource \"aws_key_pair\" \"publickey\" {\r\n",
        "  key_name   = \"publickey\"       # Deployer_Key; Name the Key saved in computer generated through PuTTy\r\n",
        "  public_key = \"ssh-rsa AAAAB3NzaC1yc2EAAAABJQAAAQEAuHZiCwM180Qa68JJ8D3uuDllSO9heNwv/guoqf00twJ2fXD25qFGiI4INIIn7cg2yif0jgbxMxPKlKfFrzl1jH0ldRxM47jWU/LykyH+pbOl4n+bvsk36RTswQ7RATDbzlbXvRzTig9AvMI9NfJcSRBbaZJ3b4jxXuh9bib+Vm2Ib7yypeyC6XPtQtUmOCVIsW2/ULANBRPwTkYr1QrsevOJICXwCqhm2eTRcmj9pvCKfHJWqol/dVWkhVroKDrHj6AkT7f5RQ8xexOSEdVdoEH0yB7pOpKI4RR+koIxkUe7AfD1AAvzuGFmIs8YB6S4/CnT1ndfJDFkNM3/C+jR6Q== rsa-key-20210122\"\r\n",
        "}"
      ],
      "execution_count": null,
      "outputs": []
    },
    {
      "cell_type": "markdown",
      "metadata": {
        "id": "NLfxJifMlU-l"
      },
      "source": [
        "#Security Group"
      ]
    },
    {
      "cell_type": "markdown",
      "metadata": {
        "id": "CPBamKoWmfob"
      },
      "source": [
        "First we need to create default VPC variable, which need to be added in the Security Group."
      ]
    },
    {
      "cell_type": "code",
      "metadata": {
        "id": "LT9lx5h-me6e"
      },
      "source": [
        "varibale \"default_vpc_id\"{\r\n",
        "    type = \"string\"\r\n",
        "    default = \"default_vpc_id\"        # Default VPC id from AWS console\r\n",
        "}"
      ],
      "execution_count": null,
      "outputs": []
    },
    {
      "cell_type": "markdown",
      "metadata": {
        "id": "nQwAks3lnxnf"
      },
      "source": [
        "Security Group - EC2_SG"
      ]
    },
    {
      "cell_type": "code",
      "metadata": {
        "id": "9IhnXQudlT3y"
      },
      "source": [
        "resource \"aws_security_group\" \"EC2_SG\" {\r\n",
        "  name        = \"EC2_SG\"\r\n",
        "  description = \"Security Group for EC2 instance\"\r\n",
        "  vpc_id      = \"${var.default_vpc_id}\"\r\n",
        "\r\n",
        "  ingress {\r\n",
        "    description = \"TLS from VPC\"\r\n",
        "    from_port   = 22\r\n",
        "    to_port     = 22\r\n",
        "    protocol    = \"TCP\"\r\n",
        "    cidr_blocks = [\"0.0.0.0/0\"]       #[aws_vpc.main.cidr_block]\r\n",
        "  }\r\n",
        "\r\n",
        "  egress {\r\n",
        "    from_port   = 0\r\n",
        "    to_port     = 0\r\n",
        "    protocol    = \"-1\"\r\n",
        "    cidr_blocks = [\"0.0.0.0/0\"]\r\n",
        "  }\r\n",
        "\r\n",
        "  # tags = {\r\n",
        "  #    Name = \"allow_tls\"\r\n",
        "  # }\r\n",
        "}"
      ],
      "execution_count": null,
      "outputs": []
    },
    {
      "cell_type": "markdown",
      "metadata": {
        "id": "Y-BIkFBTrP2c"
      },
      "source": [
        "https://registry.terraform.io/providers/hashicorp/aws/latest/docs/resources/instance\r\n",
        "\r\n",
        "2:10:00"
      ]
    }
  ]
}