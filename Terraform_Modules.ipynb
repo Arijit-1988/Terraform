{
  "nbformat": 4,
  "nbformat_minor": 0,
  "metadata": {
    "colab": {
      "name": "Terraform Modules.ipynb",
      "provenance": [],
      "authorship_tag": "ABX9TyNhPARqb3SDh+a6TRS0vVAn",
      "include_colab_link": false
    },
    "kernelspec": {
      "name": "python3",
      "display_name": "Python 3"
    }
  },
  "cells": [
    {
      "cell_type": "markdown",
      "metadata": {
        "id": "view-in-github",
        "colab_type": "text"
      },
      "source": [
        "<a href=\"https://colab.research.google.com/github/Arijit-1988/Terraform_IaC/blob/main/Terraform_Modules.ipynb\" target=\"_parent\"><img src=\"https://colab.research.google.com/assets/colab-badge.svg\" alt=\"Open In Colab\"/></a>"
      ]
    },
    {
      "cell_type": "markdown",
      "metadata": {
        "id": "jmcvGP_JxhEO"
      },
      "source": [
        "# 1. Create a EC2_Module_Project Folder\r\n",
        "#### 1.1 Within it there will be **main.tf** file and along with it **ec2_module** folder.\r\n",
        "\r\n",
        "### 1.1 Inside ec2_module folder we will have ec2_module.tf\r\n",
        "\r\n"
      ]
    },
    {
      "cell_type": "markdown",
      "metadata": {
        "id": "Csn8UXRPx-3M"
      },
      "source": [
        "## Under ***main.tf***\r\n"
      ]
    },
    {
      "cell_type": "code",
      "metadata": {
        "id": "b7KOVWOfxaaz"
      },
      "source": [
        "provide aws {\r\n",
        "    region = \"us-east-1\"\r\n",
        "    profile = \"arijit-aws\"\r\n",
        "}\r\n",
        "\r\n",
        "module \"ec2_module\" {\r\n",
        "    source = \"./ec2_module\"           # directing to \"ec2_module.tf\" in ec2_module folder.\r\n",
        "}\r\n",
        "\r\n",
        "\r\n",
        "# Terminal : terraform init     terraform plan"
      ],
      "execution_count": null,
      "outputs": []
    },
    {
      "cell_type": "markdown",
      "metadata": {
        "id": "Y_DEXq64xf7s"
      },
      "source": [
        "### Under ***ec2_module.tf***"
      ]
    },
    {
      "cell_type": "code",
      "metadata": {
        "id": "k8qm51q8z7GA"
      },
      "source": [
        "variable \"vpc-id\" {\r\n",
        "    type = 'string'\r\n",
        "    default = \"172.16.0.0/16\"         # Default VPC id from AWS console\r\n",
        "}\r\n",
        "\r\n",
        "# Or we can write it in this way\r\n",
        "\r\n",
        "# resource \"aws_vpc\" \"my_vpc\" {\r\n",
        "#   cidr_block = \"172.16.0.0/16\"\r\n",
        "#   tags = {\r\n",
        "#     Name = \"tf-example\"\r\n",
        "#   }\r\n",
        "# }\r\n",
        "\r\n",
        "# Security Group\r\n",
        "\r\n",
        "resource \"aws_security_group\" \"Custom_SG\" {\r\n",
        "  name        = \"Custom_SG\"\r\n",
        "  description = \"SSH into EC2 Instance Through port 22\"\r\n",
        "  vpc_id      = \"${var.vpc-id}\"         # The variable VPC \"vpcid\" created above \r\n",
        "\r\n",
        "  ingress {\r\n",
        "    description = \"TLS from VPC\"\r\n",
        "    from_port   = 22\r\n",
        "    to_port     = 22\r\n",
        "    protocol    = \"tcp\"\r\n",
        "    cidr_blocks = [\"0.0.0.0/0\"]\r\n",
        "  }\r\n",
        "\r\n",
        "  egress {\r\n",
        "    from_port   = 0\r\n",
        "    to_port     = 0\r\n",
        "    protocol    = \"-1\"\r\n",
        "    cidr_blocks = [\"0.0.0.0/0\"]\r\n",
        "  }\r\n",
        "\r\n",
        "  #tags = {\r\n",
        "  #  Name = \"allow_tls\"\r\n",
        "  #}\r\n",
        "}\r\n",
        "\r\n",
        "# Creating a Variable for AMI from us-east-1\r\n",
        "\r\n",
        "variable \"AMI_us-east-1\" {\r\n",
        "    default = \"ami-005e54dee72cc1d00\"\r\n",
        "}\r\n",
        "\r\n",
        "# AWS Key pair\r\n",
        "\r\n",
        "resource \"aws_key_pair\" \"MM_PEM\" {\r\n",
        "  key_name   = \"MM_PEM\"\r\n",
        "  public_key = \"ssh-rsa AAAAB3NzaC1yc2EAAAADAQABAAABAQD3F6tyPEFEzV0LX3X8BsXdMsQz1x2cEikKDEY0aIj41qgxMCP/iteneqXSIFZBp5vizPvaoIR3Um9xK7PGoW8giupGn+EPuxIA4cDM4vzOqOkiMPhz5XK0whEjkVzTo4+S0puvDZuwIsdiW9mxhJc7tgBNL0cYlWSYVkz4G/fslNfRPW5mYAM49f4fhtxPb5ok4Q2Lg9dPKVHO/Bgeu5woMc7RY0p1ej6D4CKFE6lymSDJpW0YHX/wqE9+cfEauh7xZcG0q9t2ta6F6fmX0agvpFyZo8aFbXeUBr7osSCJNgvavWbM/06niWrOvYX2xwWdhXmXSrbX8ZbabVohBK41 email@example.com\"\r\n",
        "}\r\n",
        "\r\n",
        "# Creating EC2 Instance\r\n",
        "\r\n",
        "resource \"aws_instance\" \"EC@_0102_2020\" {\r\n",
        "  ami = \"${var.AMI_us-east-1}\"       # Referring to AMI variable in us-east-1\r\n",
        "  instance_type = \"t2.micro\"\r\n",
        "\r\n",
        "  key_name = \"${var.aws_key_pair}\"\r\n",
        "\r\n",
        "  vpc_security_group_ids = \"${aws_security_group.Custom_SG.id}\"       # Note: Instances in a **VPC**, use vpc_security_group_ids.\r\n",
        "  \r\n",
        "}"
      ],
      "execution_count": null,
      "outputs": []
    },
    {
      "cell_type": "markdown",
      "metadata": {
        "id": "bqkDMNcY7QRe"
      },
      "source": [
        "# Input To Modules\r\n"
      ]
    },
    {
      "cell_type": "markdown",
      "metadata": {
        "id": "PLZPMIc5794g"
      },
      "source": [
        "### 1.1 Gonna create another folder **Security Group** folder\r\n",
        "\r\n",
        "#### ***sg_module.tf***"
      ]
    },
    {
      "cell_type": "code",
      "metadata": {
        "id": "tJhCUYp07TLL"
      },
      "source": [
        ""
      ],
      "execution_count": null,
      "outputs": []
    }
  ]
}
