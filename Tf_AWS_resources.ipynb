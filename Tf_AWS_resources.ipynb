{
  "nbformat": 4,
  "nbformat_minor": 0,
  "metadata": {
    "colab": {
      "name": "Tf_AWS_resources.ipynb",
      "provenance": [],
      "collapsed_sections": [],
      "authorship_tag": "ABX9TyOyzIuHiZk347jmfstPIg1Z",
      "include_colab_link": true
    },
    "kernelspec": {
      "name": "python3",
      "display_name": "Python 3"
    }
  },
  "cells": [
    {
      "cell_type": "markdown",
      "metadata": {
        "id": "view-in-github",
        "colab_type": "text"
      },
      "source": [
        "<a href=\"https://colab.research.google.com/github/Arijit-1988/Terraform_IaC/blob/main/Tf_AWS_resources.ipynb\" target=\"_parent\"><img src=\"https://colab.research.google.com/assets/colab-badge.svg\" alt=\"Open In Colab\"/></a>"
      ]
    },
    {
      "cell_type": "code",
      "metadata": {
        "id": "aB-HfiJRbQEE"
      },
      "source": [
        "provider \"aws\" {\r\n",
        "  region     = \"us-east-2\"\r\n",
        "  # access_key = \"my-access-key\"\r\n",
        "  # secret_key = \"my-secret-key\"\r\n",
        "  # shared_credentials_file = \"/Users/tf_user/.aws/creds\"\r\n",
        "  profile                 = \"customprofile\"\r\n",
        "}"
      ],
      "execution_count": null,
      "outputs": []
    },
    {
      "cell_type": "markdown",
      "metadata": {
        "id": "O52cW2Sebd4N"
      },
      "source": [
        "# Create S3 Bucket & Upload a file"
      ]
    },
    {
      "cell_type": "code",
      "metadata": {
        "id": "T8Fu1_kLb0c4"
      },
      "source": [
        "# resource '<aws_resource>' '<resource_name>{ ... }\r\n",
        "\r\n",
        "resource \"aws_s3_bucket\" \"first_s3_bucket\"{\r\n",
        "    bucket = \"s3bucket-01212021\"\r\n",
        "    acl = \"private\"\r\n",
        "    region = \"us-east-1\"    #Though we already mentioned the region in provider\r\n",
        "\r\n",
        "    tags = {\r\n",
        "        Environment = \"Dev\"\r\n",
        "        }\r\n",
        "\r\n",
        "}\r\n",
        "\r\n",
        "\r\n",
        "resource \"aws_s3_bucket_object\" \"s3_first_object\" {\r\n",
        "  bucket = \"${aws_s3_bucket.first_s3_bucket.id}\"    # your bucket name \"${<aws_service>.<bucket_name>.id}\"\r\n",
        "  key    = \"test_file.txt\"\r\n",
        "  source = \"path/to/file\"        # source of the text file in the computer\r\n",
        "\r\n",
        "\r\n",
        "  # The filemd5() function is available in Terraform 0.11.12 and later\r\n",
        "  # For Terraform 0.11.11 and earlier, use the md5() function and the file() function:\r\n",
        "  # etag = \"${md5(file(\"path/to/file\"))}\"\r\n",
        "  \r\n",
        "  etag = \"${md5(file(\"path/to/file\"))}\"        # Same as in source in <path/to/file>\r\n",
        "}\r\n",
        "\r\n"
      ],
      "execution_count": null,
      "outputs": []
    },
    {
      "cell_type": "markdown",
      "metadata": {
        "id": "AQC2clgqOaIe"
      },
      "source": [
        "# Launch EC2 Instance - KeyPair & Security Group"
      ]
    },
    {
      "cell_type": "code",
      "metadata": {
        "id": "9KEsEv8FuRFN"
      },
      "source": [
        "# AWS Key Pair : Currently this resource requires an existing user-supplied key pair.\r\n",
        "# Use PuTTY Key Generator, to generate Key \r\n",
        "\r\n",
        "1:57:00\r\n"
      ],
      "execution_count": null,
      "outputs": []
    }
  ]
}